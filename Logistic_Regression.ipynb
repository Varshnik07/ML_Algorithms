{
  "nbformat": 4,
  "nbformat_minor": 0,
  "metadata": {
    "colab": {
      "provenance": []
    },
    "kernelspec": {
      "name": "python3",
      "display_name": "Python 3"
    },
    "language_info": {
      "name": "python"
    }
  },
  "cells": [
    {
      "cell_type": "markdown",
      "source": [
        "Logistic Regression Using Numpy"
      ],
      "metadata": {
        "id": "_nuTcRl-OlrQ"
      }
    },
    {
      "cell_type": "code",
      "execution_count": 1,
      "metadata": {
        "id": "GhoSbya4OiAM"
      },
      "outputs": [],
      "source": [
        "import numpy as np\n",
        "\n",
        "class LogisticRegressionScratch:\n",
        "    def __init__(self, lr=0.1, epochs=1000):\n",
        "        self.lr = lr\n",
        "        self.epochs = epochs\n",
        "\n",
        "    def sigmoid(self, z):\n",
        "        return 1 / (1 + np.exp(-z))\n",
        "\n",
        "    def fit(self, X, y):\n",
        "        n_samples, n_features = X.shape\n",
        "        self.w = np.zeros(n_features)\n",
        "        self.b = 0\n",
        "\n",
        "        for _ in range(self.epochs):\n",
        "            linear_output = np.dot(X, self.w) + self.b\n",
        "            y_pred = self.sigmoid(linear_output)\n",
        "\n",
        "            dw = (1 / n_samples) * np.dot(X.T, (y_pred - y))\n",
        "            db = (1 / n_samples) * np.sum(y_pred - y)\n",
        "\n",
        "            self.w -= self.lr * dw\n",
        "            self.b -= self.lr * db\n",
        "\n",
        "    def predict_proba(self, X):\n",
        "        return self.sigmoid(np.dot(X, self.w) + self.b)\n",
        "\n",
        "    def predict(self, X):\n",
        "        proba = self.predict_proba(X)\n",
        "        return np.where(proba >= 0.5, 1, 0)\n"
      ]
    },
    {
      "cell_type": "code",
      "source": [
        "import numpy as np\n",
        "\n",
        "# Feature: Age\n",
        "X = np.array([[22], [25], [47], [52], [46], [56], [48], [29]])\n",
        "\n",
        "# Target: Purchased (0 = No, 1 = Yes)\n",
        "y = np.array([0, 0, 1, 1, 1, 1, 1, 0])\n",
        "\n",
        "# Create and train model\n",
        "model = LogisticRegressionScratch()\n",
        "model.fit(X, y)\n",
        "\n",
        "# Predict labels and probabilities\n",
        "y_pred = model.predict(X)\n",
        "y_proba = model.predict_proba(X)\n",
        "\n",
        "# Output\n",
        "print(\"Predicted Labels (0 or 1):\", y_pred)\n",
        "print(\"\\nPredicted Probabilities (class 0, class 1):\\n\", y_proba)"
      ],
      "metadata": {
        "colab": {
          "base_uri": "https://localhost:8080/"
        },
        "id": "Wr-u4AZePGX7",
        "outputId": "a6e2e68e-db6d-4c6e-8456-004e8df9e536"
      },
      "execution_count": 2,
      "outputs": [
        {
          "output_type": "stream",
          "name": "stdout",
          "text": [
            "Predicted Labels (0 or 1): [0 0 1 1 1 1 1 0]\n",
            "\n",
            "Predicted Probabilities (class 0, class 1):\n",
            " [0.00505827 0.01398256 0.96326658 0.99314776 0.94905457 0.99824588\n",
            " 0.97362412 0.05274324]\n"
          ]
        }
      ]
    },
    {
      "cell_type": "markdown",
      "source": [
        "Using Scikit-learn"
      ],
      "metadata": {
        "id": "nSsUQW3cPS0Y"
      }
    },
    {
      "cell_type": "code",
      "source": [
        "from sklearn.linear_model import LogisticRegression\n",
        "\n",
        "model = LogisticRegression()\n",
        "model.fit(X, y)\n",
        "\n",
        "y_pred = model.predict(X)         # 0 or 1 predictions\n",
        "y_proba = model.predict_proba(X)  # [prob of 0, prob of 1]\n",
        "\n",
        "print(\"Predicted Labels:\", y_pred)\n",
        "print(\"Predicted Probabilities:\", y_proba)"
      ],
      "metadata": {
        "colab": {
          "base_uri": "https://localhost:8080/"
        },
        "id": "394spCLXPVbu",
        "outputId": "c04340ba-39a4-40ad-cd3e-3c7633088767"
      },
      "execution_count": 3,
      "outputs": [
        {
          "output_type": "stream",
          "name": "stdout",
          "text": [
            "Predicted Labels: [0 0 1 1 1 1 1 0]\n",
            "Predicted Probabilities: [[9.99225286e-01 7.74714393e-04]\n",
            " [9.96733566e-01 3.26643440e-03]\n",
            " [7.76836203e-03 9.92231638e-01]\n",
            " [7.08023554e-04 9.99291976e-01]\n",
            " [1.25004461e-02 9.87499554e-01]\n",
            " [1.03662438e-04 9.99896338e-01]\n",
            " [4.81888206e-03 9.95181118e-01]\n",
            " [9.78093939e-01 2.19060609e-02]]\n"
          ]
        }
      ]
    },
    {
      "cell_type": "markdown",
      "source": [
        "Metrics"
      ],
      "metadata": {
        "id": "ZuPbbqTWPhWk"
      }
    },
    {
      "cell_type": "code",
      "source": [
        "from sklearn.metrics import accuracy_score, confusion_matrix, classification_report\n",
        "\n",
        "print(\"Accuracy:\", accuracy_score(y, y_pred))\n",
        "print(\"Confusion Matrix:\\n\", confusion_matrix(y, y_pred))\n",
        "print(\"Classification Report:\\n\", classification_report(y, y_pred))\n"
      ],
      "metadata": {
        "colab": {
          "base_uri": "https://localhost:8080/"
        },
        "id": "Zlp5EfQpPjNg",
        "outputId": "16d84806-91a8-41e9-8579-f35997e45e59"
      },
      "execution_count": 4,
      "outputs": [
        {
          "output_type": "stream",
          "name": "stdout",
          "text": [
            "Accuracy: 1.0\n",
            "Confusion Matrix:\n",
            " [[3 0]\n",
            " [0 5]]\n",
            "Classification Report:\n",
            "               precision    recall  f1-score   support\n",
            "\n",
            "           0       1.00      1.00      1.00         3\n",
            "           1       1.00      1.00      1.00         5\n",
            "\n",
            "    accuracy                           1.00         8\n",
            "   macro avg       1.00      1.00      1.00         8\n",
            "weighted avg       1.00      1.00      1.00         8\n",
            "\n"
          ]
        }
      ]
    }
  ]
}